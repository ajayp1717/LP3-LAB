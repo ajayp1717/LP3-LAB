{
 "cells": [
  {
   "cell_type": "code",
   "execution_count": null,
   "id": "d7170c51",
   "metadata": {},
   "outputs": [],
   "source": [
    "import pandas as pd\n",
    "import numpy as np\n",
    "import matplotlib.pyplot as plt\n",
    "import seaborn as sns"
   ]
  },
  {
   "cell_type": "code",
   "execution_count": null,
   "id": "40ffed00",
   "metadata": {},
   "outputs": [],
   "source": [
    "df = pd.read_csv('datasets/sales_data_sample.csv',encoding='unicode_escape')\n",
    "df.head()"
   ]
  },
  {
   "cell_type": "code",
   "execution_count": null,
   "id": "337c9eaf",
   "metadata": {},
   "outputs": [],
   "source": [
    "df.info()"
   ]
  },
  {
   "cell_type": "code",
   "execution_count": null,
   "id": "01c0b2ce",
   "metadata": {},
   "outputs": [],
   "source": [
    "df.isnull().sum()"
   ]
  },
  {
   "cell_type": "code",
   "execution_count": null,
   "id": "e2e13b1f",
   "metadata": {},
   "outputs": [],
   "source": [
    "df.columns"
   ]
  },
  {
   "cell_type": "markdown",
   "id": "98c471e2",
   "metadata": {},
   "source": [
    "## Reducing dimensionality by dropping redundant columns"
   ]
  },
  {
   "cell_type": "code",
   "execution_count": null,
   "id": "0ef2d6bb",
   "metadata": {},
   "outputs": [],
   "source": [
    "# Dropping redundant columns\n",
    "drop_columns = ['CUSTOMERNAME', 'PHONE','ADDRESSLINE1', 'ADDRESSLINE2', 'CITY', 'STATE', 'POSTALCODE', 'TERRITORY', 'CONTACTLASTNAME', 'CONTACTFIRSTNAME']\n",
    "df.drop(columns=drop_columns, axis=1, inplace=True)"
   ]
  },
  {
   "cell_type": "code",
   "execution_count": null,
   "id": "1d0bba6f",
   "metadata": {},
   "outputs": [],
   "source": [
    "df.shape"
   ]
  },
  {
   "cell_type": "code",
   "execution_count": null,
   "id": "6a62a962",
   "metadata": {},
   "outputs": [],
   "source": [
    "df.head()"
   ]
  },
  {
   "cell_type": "code",
   "execution_count": null,
   "id": "1712b505",
   "metadata": {},
   "outputs": [],
   "source": [
    "df.isnull().sum()"
   ]
  },
  {
   "cell_type": "markdown",
   "id": "64a9f123",
   "metadata": {},
   "source": [
    "## Converting categorical to quantitative values"
   ]
  },
  {
   "cell_type": "code",
   "execution_count": null,
   "id": "88d13a68",
   "metadata": {},
   "outputs": [],
   "source": [
    "# Converting categorical data to quantitative data\n",
    "\n",
    "# Here are some of the benefits of converting categorical data to quantitative data \n",
    "# before performing K-means clustering:\n",
    "\n",
    "# 1. It makes the clustering process more efficient and accurate.\n",
    "# 2. It makes the results of the clustering analysis easier to interpret.\n",
    "# 3. It allows you to use a wider range of distance metrics, such as Euclidean distance and Manhattan distance.\n",
    "# Overall, it is generally recommended to convert categorical data to quantitative data before performing K-means clustering.\n"
   ]
  },
  {
   "cell_type": "code",
   "execution_count": null,
   "id": "b73172ba",
   "metadata": {},
   "outputs": [],
   "source": [
    "# Using OneHotEncoding for COUNTRY and PRODUCTLINE\n",
    "df = pd.get_dummies(df, columns=['COUNTRY','PRODUCTLINE'], dtype=int)\n",
    "df"
   ]
  },
  {
   "cell_type": "code",
   "execution_count": null,
   "id": "41c27592",
   "metadata": {},
   "outputs": [],
   "source": [
    "df['DEALSIZE'].unique()"
   ]
  },
  {
   "cell_type": "code",
   "execution_count": null,
   "id": "8d9d4714",
   "metadata": {},
   "outputs": [],
   "source": [
    "# Using Label Encoding for DEAL SIZE\n",
    "\n",
    "from sklearn.preprocessing import LabelEncoder\n",
    "\n",
    "encoder = LabelEncoder()\n",
    "df['DEALSIZE'] = encoder.fit_transform(df['DEALSIZE'])\n",
    "\n",
    "df['DEALSIZE']"
   ]
  },
  {
   "cell_type": "code",
   "execution_count": null,
   "id": "9677fdf0",
   "metadata": {},
   "outputs": [],
   "source": [
    "df['STATUS'].unique()"
   ]
  },
  {
   "cell_type": "code",
   "execution_count": null,
   "id": "df6e516d",
   "metadata": {},
   "outputs": [],
   "source": [
    "# Using LabelEncoding for STATUS \n",
    "# Assigning 1 for success 2 for issues and 0 for in progress\n",
    "\n",
    "status_map = {'Shipped':1, 'Disputed':2 , 'Cancelled': 2, 'On Hold': 2,'In Process': 0,'Resolved': 0}\n",
    "df['STATUS'] = df['STATUS'].map(status_map)\n",
    "df['STATUS']"
   ]
  },
  {
   "cell_type": "code",
   "execution_count": null,
   "id": "05b88d7e",
   "metadata": {},
   "outputs": [],
   "source": [
    "df.info()\n",
    "\n",
    "# We need to convert object data types to integer for K Means Algorithm"
   ]
  },
  {
   "cell_type": "code",
   "execution_count": null,
   "id": "6ae92ab7",
   "metadata": {},
   "outputs": [],
   "source": [
    "len(df['PRODUCTCODE'].unique())"
   ]
  },
  {
   "cell_type": "code",
   "execution_count": null,
   "id": "f959b6ea",
   "metadata": {},
   "outputs": [],
   "source": [
    "# Since number of unique product codes is more we will use LabelEncoding for PRODUCTCODE instead of OneHotEncoding\n",
    "# Using OneHotEncoding will increase dimensions too much\n",
    "\n",
    "df['PRODUCTCODE'] = encoder.fit_transform(df['PRODUCTCODE'])\n",
    "df['PRODUCTCODE']"
   ]
  },
  {
   "cell_type": "markdown",
   "id": "63e44afe",
   "metadata": {},
   "source": [
    "## Converting remaining object data type to integer"
   ]
  },
  {
   "cell_type": "code",
   "execution_count": null,
   "id": "17bd6a08",
   "metadata": {},
   "outputs": [],
   "source": [
    "# Converting object date data type numeric dates (object -> datetime -> int) \n",
    "# Integer datatype is required for scaling and K means\n",
    "\n",
    "df['ORDERDATE'] = pd.to_datetime(df['ORDERDATE'])\n",
    "df['ORDERDATE'] = pd.to_numeric(df['ORDERDATE']).astype(int) / 10**9"
   ]
  },
  {
   "cell_type": "code",
   "execution_count": null,
   "id": "302f4989",
   "metadata": {},
   "outputs": [],
   "source": [
    "df.head()"
   ]
  },
  {
   "cell_type": "code",
   "execution_count": null,
   "id": "68a7af0a",
   "metadata": {},
   "outputs": [],
   "source": [
    "# Now we will remove further redundant columns \n",
    "\n",
    "# If you have two highly correlated columns in your dataset, and you include both of them in your K-means clustering\n",
    "# model, the algorithm will be essentially using the same information twice. This can lead to overfitting and \n",
    "# can reduce the accuracy of the clustering results."
   ]
  },
  {
   "cell_type": "code",
   "execution_count": null,
   "id": "13907715",
   "metadata": {},
   "outputs": [],
   "source": [
    "# Taking first 12 columns\n",
    "plt.figure(figsize=(10,12))\n",
    "sns.heatmap(df.iloc[:,:12].corr(), cmap='coolwarm', annot=True)"
   ]
  },
  {
   "cell_type": "code",
   "execution_count": null,
   "id": "002493b2",
   "metadata": {},
   "outputs": [],
   "source": [
    "# Dropping highly correlated columns ORDERDATE [corr(YEAR_ID,ORDERDATE) = 0.9] and QTR_ID [corr(QTR_ID,MONTH_ID) = 0.98]\n",
    "\n",
    "df.drop(columns=['ORDERDATE','QTR_ID'], axis=1, inplace=True)\n",
    "df.head()"
   ]
  },
  {
   "cell_type": "code",
   "execution_count": null,
   "id": "1b77d26a",
   "metadata": {},
   "outputs": [],
   "source": [
    "# Creating datasets for K Means and Hierarchical clustering\n",
    "dfk = df.copy()\n",
    "dfh = df.copy()"
   ]
  },
  {
   "cell_type": "markdown",
   "id": "c321d47f",
   "metadata": {},
   "source": [
    "# K-Means Clustering"
   ]
  },
  {
   "cell_type": "code",
   "execution_count": null,
   "id": "2e84970b",
   "metadata": {},
   "outputs": [],
   "source": [
    "# Cleaning outliers as K Means is sensitive to outliers\n",
    "# Probable outliers can be present in ['QUANTITYORDERED','PRICEEACH','SALES']\n",
    "\n",
    "def clean_outlier(data):\n",
    "    ninety = np.percentile(data, 90)\n",
    "    ten = np.percentile(data, 10)\n",
    "    \n",
    "    data = np.where(data >= ninety, ninety, data)\n",
    "    data = np.where(data <= ten, ten, data) \n",
    "    \n",
    "\n",
    "outlier_colums = ['QUANTITYORDERED','PRICEEACH','SALES']\n",
    "for col in outlier_colums:\n",
    "    clean_outlier(dfk[col])"
   ]
  },
  {
   "cell_type": "code",
   "execution_count": null,
   "id": "1177856a",
   "metadata": {},
   "outputs": [],
   "source": [
    "from sklearn.preprocessing import StandardScaler\n",
    "\n",
    "scaler = StandardScaler()\n",
    "dfk_scaled = scaler.fit_transform(dfk)\n",
    "dfk_scaled"
   ]
  },
  {
   "cell_type": "markdown",
   "id": "ece16605",
   "metadata": {},
   "source": [
    "## Elbow Method"
   ]
  },
  {
   "cell_type": "code",
   "execution_count": null,
   "id": "ea73c130",
   "metadata": {},
   "outputs": [],
   "source": [
    "from sklearn.cluster import KMeans"
   ]
  },
  {
   "cell_type": "code",
   "execution_count": null,
   "id": "d92a5d21",
   "metadata": {},
   "outputs": [],
   "source": [
    "wcss = []\n",
    "for i in range(1,16):\n",
    "    kmeans = KMeans(n_clusters=i)\n",
    "    kmeans.fit_predict(dfk_scaled)\n",
    "    wcss.append(kmeans.inertia_)\n",
    "\n",
    "wcss"
   ]
  },
  {
   "cell_type": "code",
   "execution_count": null,
   "id": "eaef8de2",
   "metadata": {},
   "outputs": [],
   "source": [
    "plt.plot(range(1,16),wcss, marker='o')\n",
    "plt.title('Elbow Curve')\n",
    "plt.ylabel('Inertia')\n",
    "plt.xlabel('K')"
   ]
  },
  {
   "cell_type": "markdown",
   "id": "409b739e",
   "metadata": {},
   "source": [
    "## Silhoutte Coefficient"
   ]
  },
  {
   "cell_type": "code",
   "execution_count": null,
   "id": "e8d94b2d",
   "metadata": {},
   "outputs": [],
   "source": [
    "from sklearn.metrics import silhouette_score\n",
    "\n",
    "silhoutte_avg = []\n",
    "\n",
    "for i in range(2,16): # Start from 2 \n",
    "    kmeans = KMeans(n_clusters=i)\n",
    "    labels= kmeans.fit_predict(dfk_scaled)\n",
    "    silhoutte_avg.append(silhouette_score(dfk_scaled,labels))\n",
    "    \n",
    "silhoutte_avg"
   ]
  },
  {
   "cell_type": "code",
   "execution_count": null,
   "id": "7530fc80",
   "metadata": {},
   "outputs": [],
   "source": [
    "plt.figure(figsize=(10,20))\n",
    "plt.plot(range(2,16),silhoutte_avg, marker='o')\n",
    "plt.title('Silhoutte Curve')\n",
    "plt.ylabel('Silhoutte Coeff')\n",
    "plt.xlabel('Clusters')"
   ]
  },
  {
   "cell_type": "code",
   "execution_count": null,
   "id": "edba6721",
   "metadata": {},
   "outputs": [],
   "source": [
    "kmeans = KMeans(n_clusters=12, init='k-means++')\n",
    "kmeans.fit_predict(dfk_scaled)\n",
    "labels = kmeans.labels_\n",
    "labels"
   ]
  },
  {
   "cell_type": "code",
   "execution_count": null,
   "id": "d8d9c6f4",
   "metadata": {},
   "outputs": [],
   "source": [
    "cluster_centers = pd.DataFrame(data=kmeans.cluster_centers_, columns=dfk.columns)\n",
    "cluster_centers"
   ]
  },
  {
   "cell_type": "markdown",
   "id": "ee2e7f7a",
   "metadata": {},
   "source": [
    "## Hierarchical Clustering"
   ]
  },
  {
   "cell_type": "code",
   "execution_count": null,
   "id": "bd1a4621",
   "metadata": {},
   "outputs": [],
   "source": [
    "import scipy.cluster.hierarchy as shc\n",
    "\n",
    "plt.figure(figsize=(10,7))\n",
    "dend = shc.dendrogram(shc.linkage(dfh, method='ward'))"
   ]
  },
  {
   "cell_type": "code",
   "execution_count": null,
   "id": "c244c5e7",
   "metadata": {},
   "outputs": [],
   "source": [
    "from sklearn.cluster import AgglomerativeClustering\n",
    "\n",
    "cluster = AgglomerativeClustering(n_clusters=10, affinity='euclidean', linkage='ward')\n",
    "labels = cluster.fit_predict(dfh)"
   ]
  },
  {
   "cell_type": "code",
   "execution_count": null,
   "id": "7134d6c8",
   "metadata": {},
   "outputs": [],
   "source": [
    "labels"
   ]
  },
  {
   "cell_type": "code",
   "execution_count": null,
   "id": "847199db",
   "metadata": {},
   "outputs": [],
   "source": []
  }
 ],
 "metadata": {
  "kernelspec": {
   "display_name": "Python 3 (ipykernel)",
   "language": "python",
   "name": "python3"
  },
  "language_info": {
   "codemirror_mode": {
    "name": "ipython",
    "version": 3
   },
   "file_extension": ".py",
   "mimetype": "text/x-python",
   "name": "python",
   "nbconvert_exporter": "python",
   "pygments_lexer": "ipython3",
   "version": "3.9.6"
  }
 },
 "nbformat": 4,
 "nbformat_minor": 5
}
