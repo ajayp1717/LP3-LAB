{
 "cells": [
  {
   "cell_type": "code",
   "execution_count": null,
   "id": "89f0d4b3",
   "metadata": {},
   "outputs": [],
   "source": [
    "import pandas as pd\n",
    "import numpy as np\n",
    "import matplotlib.pyplot as plt"
   ]
  },
  {
   "cell_type": "code",
   "execution_count": null,
   "id": "4779d77d",
   "metadata": {},
   "outputs": [],
   "source": [
    "df = pd.read_csv('datasets/emails.csv')\n",
    "df.head()"
   ]
  },
  {
   "cell_type": "code",
   "execution_count": null,
   "id": "37cfc9d7",
   "metadata": {},
   "outputs": [],
   "source": [
    "# Checking if the dataset is not too large\n",
    "df.shape"
   ]
  },
  {
   "cell_type": "code",
   "execution_count": null,
   "id": "a2835c3f",
   "metadata": {},
   "outputs": [],
   "source": [
    "# Checking for any empty values\n",
    "df.isnull().sum()   "
   ]
  },
  {
   "cell_type": "code",
   "execution_count": null,
   "id": "1e6ec253",
   "metadata": {},
   "outputs": [],
   "source": [
    "df.info()"
   ]
  },
  {
   "cell_type": "code",
   "execution_count": null,
   "id": "f1ad5445",
   "metadata": {},
   "outputs": [],
   "source": [
    "df.describe()"
   ]
  },
  {
   "cell_type": "code",
   "execution_count": null,
   "id": "bae7b610",
   "metadata": {},
   "outputs": [],
   "source": [
    "# Checking if the data is biased\n",
    "df['Prediction'].value_counts()[0]    "
   ]
  },
  {
   "cell_type": "code",
   "execution_count": null,
   "id": "193c627a",
   "metadata": {},
   "outputs": [],
   "source": [
    "df['Prediction'].value_counts()[1]"
   ]
  },
  {
   "cell_type": "code",
   "execution_count": null,
   "id": "03718340",
   "metadata": {},
   "outputs": [],
   "source": [
    "# Dropping unnecessary columns\n",
    "df.drop(columns=['Email No.'],axis=1,inplace=True)    "
   ]
  },
  {
   "cell_type": "code",
   "execution_count": null,
   "id": "e20fc0a1",
   "metadata": {},
   "outputs": [],
   "source": [
    "df.corr()"
   ]
  },
  {
   "cell_type": "code",
   "execution_count": null,
   "id": "0d25e51e",
   "metadata": {},
   "outputs": [],
   "source": [
    "X = df.iloc[:,:-1]\n",
    "X"
   ]
  },
  {
   "cell_type": "code",
   "execution_count": null,
   "id": "6ba790e3",
   "metadata": {},
   "outputs": [],
   "source": [
    "y = df.iloc[:,-1].values\n",
    "y"
   ]
  },
  {
   "cell_type": "code",
   "execution_count": null,
   "id": "484e6fb8",
   "metadata": {},
   "outputs": [],
   "source": [
    "from sklearn.model_selection import train_test_split\n",
    "\n",
    "X_train, X_test, y_train, y_test = train_test_split(X, y, test_size=0.2, random_state=2)"
   ]
  },
  {
   "cell_type": "code",
   "execution_count": null,
   "id": "113479b5",
   "metadata": {},
   "outputs": [],
   "source": [
    "X_train"
   ]
  },
  {
   "cell_type": "code",
   "execution_count": null,
   "id": "e14bf6b8",
   "metadata": {},
   "outputs": [],
   "source": [
    "y_train"
   ]
  },
  {
   "cell_type": "code",
   "execution_count": null,
   "id": "d9a05c11",
   "metadata": {},
   "outputs": [],
   "source": [
    "from sklearn.preprocessing import StandardScaler\n",
    "\n",
    "scaler = StandardScaler()\n",
    "\n",
    "X_train = scaler.fit_transform(X_train)\n",
    "X_test = scaler.transform(X_test)"
   ]
  },
  {
   "cell_type": "code",
   "execution_count": null,
   "id": "fa1eb275",
   "metadata": {},
   "outputs": [],
   "source": [
    "X_train"
   ]
  },
  {
   "cell_type": "markdown",
   "id": "556cad12",
   "metadata": {},
   "source": [
    "## KNN Classifier"
   ]
  },
  {
   "cell_type": "code",
   "execution_count": null,
   "id": "4e39d6d7",
   "metadata": {},
   "outputs": [],
   "source": [
    "from sklearn.neighbors import KNeighborsClassifier\n",
    "\n",
    "knn = KNeighborsClassifier(n_neighbors=3)"
   ]
  },
  {
   "cell_type": "code",
   "execution_count": null,
   "id": "896720c6",
   "metadata": {},
   "outputs": [],
   "source": [
    "knn.fit(X_train, y_train)"
   ]
  },
  {
   "cell_type": "code",
   "execution_count": null,
   "id": "cb2bac99",
   "metadata": {},
   "outputs": [],
   "source": [
    "from sklearn.metrics import accuracy_score\n",
    "\n",
    "y_pred = knn.predict(X_test)\n",
    "\n",
    "accuracy_score(y_test,y_pred)"
   ]
  },
  {
   "cell_type": "code",
   "execution_count": null,
   "id": "9b8d3b91",
   "metadata": {},
   "outputs": [],
   "source": [
    "scores = []\n",
    "\n",
    "for i in range(1,16):\n",
    "    knn = KNeighborsClassifier(n_neighbors=i)\n",
    "    knn.fit(X_train, y_train)\n",
    "    y_pred = knn.predict(X_test)\n",
    "    scores.append(accuracy_score(y_test,y_pred))"
   ]
  },
  {
   "cell_type": "code",
   "execution_count": null,
   "id": "649cb23e",
   "metadata": {},
   "outputs": [],
   "source": [
    "plt.plot(range(1,16),scores)\n",
    "# Best classification at k = 2"
   ]
  },
  {
   "cell_type": "markdown",
   "id": "eae7419e",
   "metadata": {},
   "source": [
    "## SVM [Support Vector Machines]"
   ]
  },
  {
   "cell_type": "code",
   "execution_count": null,
   "id": "ccd9edb0",
   "metadata": {},
   "outputs": [],
   "source": [
    "# Since our dataset has more than 2 features for classification we have to use RBF Kernel"
   ]
  },
  {
   "cell_type": "code",
   "execution_count": null,
   "id": "cbc12a72",
   "metadata": {},
   "outputs": [],
   "source": [
    "# Trying using linear kernel SVM\n",
    "from sklearn.svm import SVC\n",
    "\n",
    "model_Linear = SVC(kernel='linear', C=1)\n",
    "model_Linear.fit(X_train,y_train)"
   ]
  },
  {
   "cell_type": "code",
   "execution_count": null,
   "id": "5cb28d5f",
   "metadata": {},
   "outputs": [],
   "source": [
    "y_pred_Linear_SVC = model_Linear.predict(X_test)"
   ]
  },
  {
   "cell_type": "code",
   "execution_count": null,
   "id": "04e95fc7",
   "metadata": {},
   "outputs": [],
   "source": [
    "from sklearn.metrics import accuracy_score\n",
    "\n",
    "accuracy_score(y_test,y_pred_Linear_SVC)"
   ]
  },
  {
   "cell_type": "code",
   "execution_count": null,
   "id": "f6c2d0c3",
   "metadata": {},
   "outputs": [],
   "source": [
    "# Trying using RBF kernel SVM\n",
    "\n",
    "model_RBF = SVC(kernel='rbf',gamma='auto')\n",
    "model_RBF.fit(X_train,y_train)"
   ]
  },
  {
   "cell_type": "code",
   "execution_count": null,
   "id": "15d6ee55",
   "metadata": {},
   "outputs": [],
   "source": [
    "y_pred_RBF_SVC = model_RBF.predict(X_test)"
   ]
  },
  {
   "cell_type": "code",
   "execution_count": null,
   "id": "78e72739",
   "metadata": {},
   "outputs": [],
   "source": [
    "accuracy_score(y_test,y_pred_RBF_SVC)"
   ]
  },
  {
   "cell_type": "code",
   "execution_count": null,
   "id": "0cd34a3d",
   "metadata": {},
   "outputs": [],
   "source": []
  }
 ],
 "metadata": {
  "kernelspec": {
   "display_name": "Python 3 (ipykernel)",
   "language": "python",
   "name": "python3"
  },
  "language_info": {
   "codemirror_mode": {
    "name": "ipython",
    "version": 3
   },
   "file_extension": ".py",
   "mimetype": "text/x-python",
   "name": "python",
   "nbconvert_exporter": "python",
   "pygments_lexer": "ipython3",
   "version": "3.9.6"
  }
 },
 "nbformat": 4,
 "nbformat_minor": 5
}
