{
 "cells": [
  {
   "cell_type": "code",
   "execution_count": null,
   "id": "24afabf2",
   "metadata": {},
   "outputs": [],
   "source": [
    "import warnings\n",
    "warnings.filterwarnings('ignore')"
   ]
  },
  {
   "cell_type": "code",
   "execution_count": null,
   "id": "0586022e",
   "metadata": {},
   "outputs": [],
   "source": [
    "import pandas as pd\n",
    "import numpy as np\n",
    "import matplotlib.pyplot as plt\n",
    "import seaborn as sns"
   ]
  },
  {
   "cell_type": "code",
   "execution_count": null,
   "id": "4b3a4b24",
   "metadata": {},
   "outputs": [],
   "source": [
    "df = pd.read_csv('./datasets/uber.csv')\n",
    "df.head()"
   ]
  },
  {
   "cell_type": "code",
   "execution_count": null,
   "id": "88e27441",
   "metadata": {},
   "outputs": [],
   "source": [
    "df.shape"
   ]
  },
  {
   "cell_type": "markdown",
   "id": "567b6006",
   "metadata": {},
   "source": [
    "**Preprocessing the dataset**"
   ]
  },
  {
   "cell_type": "code",
   "execution_count": null,
   "id": "55e63da7",
   "metadata": {},
   "outputs": [],
   "source": [
    "df.info()"
   ]
  },
  {
   "cell_type": "code",
   "execution_count": null,
   "id": "076a767f",
   "metadata": {},
   "outputs": [],
   "source": [
    "len(df['key'].unique())"
   ]
  },
  {
   "cell_type": "code",
   "execution_count": null,
   "id": "a65ff945",
   "metadata": {},
   "outputs": [],
   "source": [
    "# Dropping redundant columns\n",
    "df.drop(columns=['Unnamed: 0','key'], axis=1, inplace=True)"
   ]
  },
  {
   "cell_type": "code",
   "execution_count": null,
   "id": "9f053442",
   "metadata": {},
   "outputs": [],
   "source": [
    "df.head()"
   ]
  },
  {
   "cell_type": "code",
   "execution_count": null,
   "id": "7c9dd715",
   "metadata": {},
   "outputs": [],
   "source": [
    "df.isnull().sum()"
   ]
  },
  {
   "cell_type": "code",
   "execution_count": null,
   "id": "6a3c203d",
   "metadata": {},
   "outputs": [],
   "source": [
    "df.columns"
   ]
  },
  {
   "cell_type": "code",
   "execution_count": null,
   "id": "2ab851ca",
   "metadata": {},
   "outputs": [],
   "source": [
    "df.dropna(inplace=True)\n",
    "df.isnull().sum()"
   ]
  },
  {
   "cell_type": "code",
   "execution_count": null,
   "id": "988b00b6",
   "metadata": {},
   "outputs": [],
   "source": [
    "df['pickup_datetime'] = pd.to_datetime(df['pickup_datetime']).astype(int) / 10**9\n",
    "df.head(10)"
   ]
  },
  {
   "cell_type": "code",
   "execution_count": null,
   "id": "36ea022c",
   "metadata": {},
   "outputs": [],
   "source": [
    "df.info()"
   ]
  },
  {
   "cell_type": "markdown",
   "id": "5b54df65",
   "metadata": {},
   "source": [
    "**Handling Outliers**"
   ]
  },
  {
   "cell_type": "code",
   "execution_count": null,
   "id": "6c7ddf11",
   "metadata": {},
   "outputs": [],
   "source": [
    "for col in df.columns:\n",
    "    plt.figure(figsize=(5,5))\n",
    "    plt.boxplot(x=df[col])\n",
    "    plt.title(col)"
   ]
  },
  {
   "cell_type": "code",
   "execution_count": null,
   "id": "9cbba76d",
   "metadata": {},
   "outputs": [],
   "source": [
    "# Handling outliers in longitudes and latitudes\n",
    "\n",
    "df = df[\n",
    "    (df['pickup_latitude'] <= 90) & (df['dropoff_latitude'] <= 90) & \n",
    "    (df['pickup_latitude'] >= -90) & (df['dropoff_latitude'] >= -90) &\n",
    "    (df['pickup_longitude'] <= 180) & (df['dropoff_longitude'] <= 180) &\n",
    "    (df['pickup_longitude'] >= -180) & (df['dropoff_longitude'] >= -180)\n",
    "]\n",
    "\n",
    "df.shape"
   ]
  },
  {
   "cell_type": "markdown",
   "id": "aaca5ade",
   "metadata": {},
   "source": [
    "**Correlation**"
   ]
  },
  {
   "cell_type": "code",
   "execution_count": null,
   "id": "52390622",
   "metadata": {},
   "outputs": [],
   "source": [
    "plt.figure(figsize=(10,8))\n",
    "sns.heatmap(df.corr(), annot=True, cmap='coolwarm')"
   ]
  },
  {
   "cell_type": "markdown",
   "id": "62470763",
   "metadata": {},
   "source": [
    "**Calculating distance parameter**"
   ]
  },
  {
   "cell_type": "code",
   "execution_count": null,
   "id": "614ae2a5",
   "metadata": {},
   "outputs": [],
   "source": [
    "def calc_dist(lat_1, lat_2, lon_1, lon_2):\n",
    "    lat_1,lat_2,lon_1,lon_2 = map(np.radians, [lat_1,lat_2,lon_1,lon_2])\n",
    "    diff_lat = lat_2 - lat_1\n",
    "    diff_lon = lon_2 - lon_1\n",
    "    \n",
    "    dist = 2 * 6371 * np.arcsin(np.sqrt(np.sin(diff_lat/2)**2 + np.cos(lat_1)*np.cos(lat_2)*np.sin(diff_lon/2)**2))\n",
    "\n",
    "    return dist"
   ]
  },
  {
   "cell_type": "code",
   "execution_count": null,
   "id": "c9f46f70",
   "metadata": {},
   "outputs": [],
   "source": [
    "df['Distance'] = [calc_dist(\n",
    "                    df['dropoff_latitude'][i],\n",
    "                    df['pickup_latitude'][i],\n",
    "                    df['dropoff_longitude'][i],\n",
    "                    df['pickup_longitude'][i])\n",
    "                    for i in df.index\n",
    "                 ]\n",
    "df.head(10)"
   ]
  },
  {
   "cell_type": "code",
   "execution_count": null,
   "id": "dfd76029",
   "metadata": {},
   "outputs": [],
   "source": [
    "sns.boxplot(x=df['Distance'])"
   ]
  },
  {
   "cell_type": "code",
   "execution_count": null,
   "id": "91cc2d9a",
   "metadata": {},
   "outputs": [],
   "source": [
    "# Removing distance outliers\n",
    "\n",
    "q1 = np.percentile(df['Distance'],25)\n",
    "q3 = np.percentile(df['Distance'],75)\n",
    "\n",
    "iqr = q3-q1 \n",
    "upper_limit = q3 + 1.5*iqr\n",
    "lower_limit = q1 - 1.5*iqr\n",
    "\n",
    "df = df[(df['Distance'] < upper_limit) & (df['Distance'] > lower_limit)]\n",
    "\n",
    "df.shape"
   ]
  },
  {
   "cell_type": "markdown",
   "id": "bd3527f7",
   "metadata": {},
   "source": [
    "**Regression Models**"
   ]
  },
  {
   "cell_type": "code",
   "execution_count": null,
   "id": "61197c32",
   "metadata": {},
   "outputs": [],
   "source": [
    "X = df[['pickup_datetime','passenger_count','Distance']]\n",
    "y = df.iloc[:,0]"
   ]
  },
  {
   "cell_type": "code",
   "execution_count": null,
   "id": "313f7607",
   "metadata": {},
   "outputs": [],
   "source": [
    "X"
   ]
  },
  {
   "cell_type": "code",
   "execution_count": null,
   "id": "4a1e452c",
   "metadata": {},
   "outputs": [],
   "source": [
    "y"
   ]
  },
  {
   "cell_type": "code",
   "execution_count": null,
   "id": "71abc140",
   "metadata": {},
   "outputs": [],
   "source": [
    "from sklearn.model_selection import train_test_split\n",
    "\n",
    "X_train, X_test, y_train, y_test = train_test_split(X, y, random_state=2, test_size=0.2)"
   ]
  },
  {
   "cell_type": "code",
   "execution_count": null,
   "id": "596bad47",
   "metadata": {},
   "outputs": [],
   "source": [
    "from sklearn.preprocessing import StandardScaler\n",
    "\n",
    "scaler = StandardScaler()\n",
    "X_train = scaler.fit_transform(X_train)\n",
    "X_test = scaler.transform(X_test)\n",
    "X_train"
   ]
  },
  {
   "cell_type": "code",
   "execution_count": null,
   "id": "ea703fd8",
   "metadata": {},
   "outputs": [],
   "source": [
    "display(X_train.shape)\n",
    "display(X_test.shape)\n",
    "display(y_train.shape)\n",
    "display(y_test.shape)"
   ]
  },
  {
   "cell_type": "code",
   "execution_count": null,
   "id": "910cf3b8",
   "metadata": {},
   "outputs": [],
   "source": [
    "from sklearn.linear_model import LinearRegression\n",
    "\n",
    "lr = LinearRegression()"
   ]
  },
  {
   "cell_type": "code",
   "execution_count": null,
   "id": "92d3d19c",
   "metadata": {},
   "outputs": [],
   "source": [
    "# X_train = X_train.values.reshape(-1,1)\n",
    "y_train = y_train.values.reshape(-1,1)\n",
    "# X_test = X_test.values.reshape(-1,1)\n",
    "y_test = y_test.values.reshape(-1,1)"
   ]
  },
  {
   "cell_type": "code",
   "execution_count": null,
   "id": "deeb1a6b",
   "metadata": {},
   "outputs": [],
   "source": [
    "lr.fit(X_train, y_train)"
   ]
  },
  {
   "cell_type": "code",
   "execution_count": null,
   "id": "5ba4edf5",
   "metadata": {},
   "outputs": [],
   "source": [
    "y_pred = lr.predict(X_test)\n",
    "y_pred"
   ]
  },
  {
   "cell_type": "code",
   "execution_count": null,
   "id": "8f42bd39",
   "metadata": {},
   "outputs": [],
   "source": [
    "y_test"
   ]
  },
  {
   "cell_type": "code",
   "execution_count": null,
   "id": "0a5da318",
   "metadata": {},
   "outputs": [],
   "source": [
    "from sklearn import metrics\n",
    "\n",
    "print(\"Mean Absolute Error: \", metrics.mean_absolute_error(y_test, y_pred))\n",
    "print(\"Mean Squared Error: \", metrics.mean_squared_error(y_test, y_pred))\n",
    "print(\"RMSE: \", np.sqrt(metrics.mean_squared_error(y_test, y_pred)))\n",
    "print(\"R2 Score: \", metrics.r2_score(y_test, y_pred))"
   ]
  },
  {
   "cell_type": "markdown",
   "id": "15f16aba",
   "metadata": {},
   "source": [
    "**Random Forest Regression**"
   ]
  },
  {
   "cell_type": "code",
   "execution_count": null,
   "id": "4266152c",
   "metadata": {},
   "outputs": [],
   "source": [
    "from sklearn.ensemble import RandomForestRegressor\n",
    "\n",
    "rfr = RandomForestRegressor(n_estimators=100, random_state=2)"
   ]
  },
  {
   "cell_type": "code",
   "execution_count": null,
   "id": "e6bf4a30",
   "metadata": {},
   "outputs": [],
   "source": [
    "rfr.fit(X_train, y_train)"
   ]
  },
  {
   "cell_type": "code",
   "execution_count": null,
   "id": "1b464302",
   "metadata": {},
   "outputs": [],
   "source": [
    "y_pred_rfr = rfr.predict(X_test)\n",
    "y_pred_rfr"
   ]
  },
  {
   "cell_type": "code",
   "execution_count": null,
   "id": "fba9429f",
   "metadata": {},
   "outputs": [],
   "source": [
    "from sklearn import metrics\n",
    "\n",
    "print(\"Mean Absolute Error: \", metrics.mean_absolute_error(y_test, y_pred_rfr))\n",
    "print(\"Mean Squared Error: \", metrics.mean_squared_error(y_test, y_pred_rfr))\n",
    "print(\"RMSE: \", np.sqrt(metrics.mean_squared_error(y_test, y_pred_rfr)))\n",
    "print(\"R2 Score: \", metrics.r2_score(y_test, y_pred_rfr))"
   ]
  },
  {
   "cell_type": "code",
   "execution_count": null,
   "id": "f7da26b5",
   "metadata": {},
   "outputs": [],
   "source": [
    "# Hyparameter Tuning\n",
    "\n",
    "r2Scores = []\n",
    "for i in range(1,31):\n",
    "    rfr = RandomForestRegressor(n_estimators=i, random_state=2)\n",
    "    rfr.fit(X_train, y_train)\n",
    "    y_pred_rfr = rfr.predict(X_test)\n",
    "    r2Scores.append(metrics.r2_score(y_test, y_pred_rfr))"
   ]
  },
  {
   "cell_type": "code",
   "execution_count": null,
   "id": "fad66cbc",
   "metadata": {},
   "outputs": [],
   "source": [
    "plt.figure(figsize=(10,8))\n",
    "plt.plot(range(1,31), r2Scores)\n",
    "plt.xlabel(\"Decision Trees\")\n",
    "plt.ylabel(\"Accuracy\")\n",
    "plt.title(\"Elbow Plot - Random Forest Regression\")"
   ]
  },
  {
   "cell_type": "code",
   "execution_count": null,
   "id": "7bff8adf",
   "metadata": {},
   "outputs": [],
   "source": [
    "X_train"
   ]
  },
  {
   "cell_type": "code",
   "execution_count": null,
   "id": "b86a1f2d",
   "metadata": {},
   "outputs": [],
   "source": [
    "plt.scatter(X_train, y_train)\n",
    "plt.plot(X_train.iloc[:,-1], rfr.predict(X_train), color='red')\n",
    "plt.xlabel('Distance')\n",
    "plt.ylabel('Fare Amount')"
   ]
  },
  {
   "cell_type": "markdown",
   "id": "de210273",
   "metadata": {},
   "source": [
    "**Testing without using distance**"
   ]
  },
  {
   "cell_type": "code",
   "execution_count": null,
   "id": "aecefcae",
   "metadata": {},
   "outputs": [],
   "source": [
    "df.head()"
   ]
  },
  {
   "cell_type": "code",
   "execution_count": null,
   "id": "cf8bc99f",
   "metadata": {},
   "outputs": [],
   "source": [
    "X2 = df[['pickup_longitude','pickup_latitude','dropoff_longitude','dropoff_latitude','passenger_count','normalized_distance','normalized_dates']]\n",
    "y2 = df['fare_amount']\n",
    "X2"
   ]
  },
  {
   "cell_type": "code",
   "execution_count": null,
   "id": "d0fb02ae",
   "metadata": {},
   "outputs": [],
   "source": [
    "y2"
   ]
  },
  {
   "cell_type": "code",
   "execution_count": null,
   "id": "21ba9285",
   "metadata": {},
   "outputs": [],
   "source": [
    "X2_train, X2_test, y2_train, y2_test = train_test_split(X2, y2, test_size=0.2, random_state=2)"
   ]
  },
  {
   "cell_type": "code",
   "execution_count": null,
   "id": "e3683168",
   "metadata": {},
   "outputs": [],
   "source": [
    "lr2 = LinearRegression()\n",
    "lr2.fit(X2_train, y2_train)"
   ]
  },
  {
   "cell_type": "code",
   "execution_count": null,
   "id": "9bcb6b3d",
   "metadata": {},
   "outputs": [],
   "source": [
    "y2_pred = lr2.predict(X2_test)\n",
    "y2_pred"
   ]
  },
  {
   "cell_type": "code",
   "execution_count": null,
   "id": "0ec4c4d3",
   "metadata": {},
   "outputs": [],
   "source": [
    "from sklearn import metrics\n",
    "\n",
    "print(\"Mean Absolute Error: \", metrics.mean_absolute_error(y2_test, y2_pred))\n",
    "print(\"Mean Squared Error: \", metrics.mean_squared_error(y2_test, y2_pred))\n",
    "print(\"RMSE: \", np.sqrt(metrics.mean_squared_error(y2_test, y2_pred)))\n",
    "print(\"R2 Score: \", metrics.r2_score(y2_test, y2_pred))"
   ]
  },
  {
   "cell_type": "code",
   "execution_count": null,
   "id": "6f119c1e",
   "metadata": {},
   "outputs": [],
   "source": [
    "rfr2 = RandomForestRegressor(n_estimators=100,random_state=2)\n",
    "rfr2.fit(X2_train, y2_train)"
   ]
  },
  {
   "cell_type": "code",
   "execution_count": null,
   "id": "6f050880",
   "metadata": {},
   "outputs": [],
   "source": [
    "y2_pred_rfr = rfr2.predict(X2_test)"
   ]
  },
  {
   "cell_type": "code",
   "execution_count": null,
   "id": "ec6e5df8",
   "metadata": {},
   "outputs": [],
   "source": [
    "from sklearn import metrics\n",
    "\n",
    "print(\"Mean Absolute Error: \", metrics.mean_absolute_error(y2_test, y2_pred))\n",
    "print(\"Mean Squared Error: \", metrics.mean_squared_error(y2_test, y2_pred))\n",
    "print(\"RMSE: \", np.sqrt(metrics.mean_squared_error(y2_test, y2_pred)))\n",
    "print(\"R2 Score: \", metrics.r2_score(y2_test, y2_pred))"
   ]
  }
 ],
 "metadata": {
  "kernelspec": {
   "display_name": "Python 3 (ipykernel)",
   "language": "python",
   "name": "python3"
  },
  "language_info": {
   "codemirror_mode": {
    "name": "ipython",
    "version": 3
   },
   "file_extension": ".py",
   "mimetype": "text/x-python",
   "name": "python",
   "nbconvert_exporter": "python",
   "pygments_lexer": "ipython3",
   "version": "3.9.6"
  }
 },
 "nbformat": 4,
 "nbformat_minor": 5
}
