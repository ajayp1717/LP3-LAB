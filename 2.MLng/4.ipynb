{
 "cells": [
  {
   "cell_type": "code",
   "execution_count": null,
   "id": "67c77c32",
   "metadata": {},
   "outputs": [],
   "source": [
    "import pandas as pd\n",
    "import numpy as np\n",
    "import matplotlib.pyplot as plt\n",
    "import sympy as sym"
   ]
  },
  {
   "cell_type": "code",
   "execution_count": null,
   "id": "ccfeeefd",
   "metadata": {},
   "outputs": [],
   "source": [
    "def objective(x):\n",
    "    return (x+3)**2"
   ]
  },
  {
   "cell_type": "code",
   "execution_count": null,
   "id": "f49135a5",
   "metadata": {},
   "outputs": [],
   "source": [
    "def derivate(x):\n",
    "    return 2*(x+3)"
   ]
  },
  {
   "cell_type": "code",
   "execution_count": null,
   "id": "9dd0e952",
   "metadata": {},
   "outputs": [],
   "source": [
    "def gradientDescent(start, lr, epoch): # lr -> learning rate, epoch -> iterations\n",
    "    x_old = start\n",
    "    x_list = []\n",
    "    for i in range(epoch):\n",
    "        slope = derivate(x_old)\n",
    "        x_new = x_old - (slope * lr)\n",
    "        x_list.append(x_new)\n",
    "        x_old = x_new\n",
    "    return x_list"
   ]
  },
  {
   "cell_type": "code",
   "execution_count": null,
   "id": "6f3b6ed0",
   "metadata": {},
   "outputs": [],
   "source": [
    "lr = 0.1\n",
    "start = 2\n",
    "epoch = 100"
   ]
  },
  {
   "cell_type": "code",
   "execution_count": null,
   "id": "5dd56bda",
   "metadata": {},
   "outputs": [],
   "source": [
    "x_list = gradientDescent(start, lr, epoch)\n",
    "x_list"
   ]
  },
  {
   "cell_type": "code",
   "execution_count": null,
   "id": "aa0ddd33",
   "metadata": {},
   "outputs": [],
   "source": [
    "# Calculating derivatives at start and end points\n",
    "\n",
    "from sympy import Derivative\n",
    "from sympy.abc import x\n",
    "\n",
    "df = Derivative((x+3)**2, x, evaluate=True)\n",
    "df"
   ]
  },
  {
   "cell_type": "code",
   "execution_count": null,
   "id": "a9441720",
   "metadata": {},
   "outputs": [],
   "source": [
    "print(df.doit().subs(x,x_list[0]))\n",
    "print(df.doit().subs(x,x_list[-1]))"
   ]
  },
  {
   "cell_type": "code",
   "execution_count": null,
   "id": "2d0f2dc4",
   "metadata": {},
   "outputs": [],
   "source": [
    "X = np.linspace(-30,30,100)\n",
    "plt.plot(X, objective(X), '-')\n",
    "plt.plot(start, objective(start), 'ro')"
   ]
  },
  {
   "cell_type": "code",
   "execution_count": null,
   "id": "f7fedeaf",
   "metadata": {},
   "outputs": [],
   "source": [
    "X = np.linspace(-4,4,100)\n",
    "plt.plot(X, objective(X), '-')\n",
    "\n",
    "x_list_arr = np.array(x_list)\n",
    "plt.plot(x_list, objective(x_list_arr), 'r.-')"
   ]
  },
  {
   "cell_type": "code",
   "execution_count": null,
   "id": "06aae677",
   "metadata": {},
   "outputs": [],
   "source": []
  }
 ],
 "metadata": {
  "kernelspec": {
   "display_name": "Python 3 (ipykernel)",
   "language": "python",
   "name": "python3"
  },
  "language_info": {
   "codemirror_mode": {
    "name": "ipython",
    "version": 3
   },
   "file_extension": ".py",
   "mimetype": "text/x-python",
   "name": "python",
   "nbconvert_exporter": "python",
   "pygments_lexer": "ipython3",
   "version": "3.10.12"
  }
 },
 "nbformat": 4,
 "nbformat_minor": 5
}
